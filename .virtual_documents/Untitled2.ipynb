# Import necessary libraries
import pandas as pd
import numpy as np
import requests
import json
from datetime import datetime, timedelta
import matplotlib.pyplot as plt
import seaborn as sns
import plotly.express as px
import plotly.graph_objects as go
from plotly.subplots import make_subplots
import warnings
warnings.filterwarnings('ignore')


# Set plotting style
plt.style.use('seaborn-v0_8')
sns.set_palette("husl")

print("Libraries imported successfully!")


# NYC Traffic Data API endpoints
TRAFFIC_DATA_URL = "https://data.cityofnewyork.us/resource/7ym2-wayt.json"
EMISSIONS_DATA_URL = "https://data.cityofnewyork.us/resource/7ym2-wayt.json

def fetch_nyc_data(url, limit=1000):
#Fetch data from NYC Open Data Portal\
    try:
        params = \{'$limit': limit\}
        response = requests.get(url, params=params)
        response.raise_for_status()
        return pd.DataFrame(response.json())
    except Exception as e:
        print(f\\"Error fetching data:
        return None

# Fetch traffic data
print("Fetching NYC traffic data...")
traffic_data = fetch_nyc_data(TRAFFIC_DATA_URL)
if traffic_data is not None:
   print(f\\"Traffic data shape: {traffic_data.shape}
    print(traffic_data.head())



